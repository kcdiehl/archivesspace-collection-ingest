{
 "cells": [
  {
   "cell_type": "code",
   "execution_count": null,
   "id": "b121b893",
   "metadata": {},
   "outputs": [],
   "source": [
    "notes = ['note_multipart;;accessrestrict;;note_text;;',\n",
    "        'note_multipart;;accruals;;note_text;;',\n",
    "        'note_multipart;;acqinfo;;note_text;;',\n",
    "        'note_multipart;;altformavail;;note_text;;',\n",
    "        'note_multipart;;appraisal;;note_text;;',\n",
    "        'note_multipart;;arrangement;;note_text;;',\n",
    "        'note_multipart;;bioghist;;note_text;;',\n",
    "        'note_multipart;;custodhist;;note_text;;',\n",
    "        'note_multipart;;odd;;note_text;;',\n",
    "        'note_multipart;;originalsloc;;note_text;;',\n",
    "        'note_multipart;;otherfindaid;;note_text;;',\n",
    "        'note_multipart;;phystech;;note_text;;',\n",
    "        'note_multipart;;prefercite;;note_text;;',\n",
    "        'note_multipart;;processinfo;;note_text;;',\n",
    "        'note_multipart;;relatedmaterial;;note_text;;',\n",
    "        'note_multipart;;scopecontent;;note_text;;',\n",
    "        'note_multipart;;separatedmaterial;;note_text;;',\n",
    "        'note_multipart;;userestrict;;note_text;;',\n",
    "        'note_singlepart;;abstract;;note_text;;',\n",
    "        'note_singlepart;;materialsspec;;note_text;;',\n",
    "        'note_singlepart;;physdesc;;note_text;;',\n",
    "        'note_singlepart;;physfacet;;note_text;;']\n",
    "\n",
    "dates = ['label;;', 'expression;;', 'date_type;;', 'begin;;', 'end;;', 'certainity;;']\n",
    "\n",
    "extents = ['portion', 'number', 'extent_type', 'container_summary', 'physical_details', 'dimensions']\n",
    "\n",
    "linked_agents = ['creator;;art;;', 'creator;;asn;;', 'creator;;auc;;', 'creator;;aut;;', 'creator;;bsl;;', \n",
    "                 'creator;;cll;;', 'creator;;col;;', 'creator;;com;;', 'creator;;cre;;', 'creator;;crp;;',\n",
    "                 'creator;;cur;;', 'creator;;dnr;;', 'creator;;dpt;;', 'creator;;edt;;', 'creator;;eng;;',\n",
    "                 'creator;;fmo;;', 'creator;;ive;;', 'creator;;ivr;;', 'creator;;own;;', 'creator;;pbl;;',\n",
    "                 'creator;;pht;;', 'creator;;prt;;', 'creator;;spn;;', 'source;;', 'subject;;']"
   ]
  }
 ],
 "metadata": {
  "kernelspec": {
   "display_name": "Python 3 (ipykernel)",
   "language": "python",
   "name": "python3"
  },
  "language_info": {
   "codemirror_mode": {
    "name": "ipython",
    "version": 3
   },
   "file_extension": ".py",
   "mimetype": "text/x-python",
   "name": "python",
   "nbconvert_exporter": "python",
   "pygments_lexer": "ipython3",
   "version": "3.9.13"
  }
 },
 "nbformat": 4,
 "nbformat_minor": 5
}
